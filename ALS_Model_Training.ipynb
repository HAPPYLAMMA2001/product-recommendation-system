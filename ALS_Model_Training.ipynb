{
 "cells": [
  {
   "cell_type": "code",
   "execution_count": 1,
   "id": "2b307422-e273-4f67-a272-f6b50176eca1",
   "metadata": {},
   "outputs": [
    {
     "data": {
      "text/html": [
       "\n",
       "            <div>\n",
       "                <p><b>SparkSession - in-memory</b></p>\n",
       "                \n",
       "        <div>\n",
       "            <p><b>SparkContext</b></p>\n",
       "\n",
       "            <p><a href=\"http://HAPPYLAMMA2001:4040\">Spark UI</a></p>\n",
       "\n",
       "            <dl>\n",
       "              <dt>Version</dt>\n",
       "                <dd><code>v3.3.2</code></dd>\n",
       "              <dt>Master</dt>\n",
       "                <dd><code>local[*]</code></dd>\n",
       "              <dt>AppName</dt>\n",
       "                <dd><code>phase2</code></dd>\n",
       "            </dl>\n",
       "        </div>\n",
       "        \n",
       "            </div>\n",
       "        "
      ],
      "text/plain": [
       "<pyspark.sql.session.SparkSession at 0x1f04579d370>"
      ]
     },
     "execution_count": 1,
     "metadata": {},
     "output_type": "execute_result"
    }
   ],
   "source": [
    "from pyspark.sql import SparkSession\n",
    "spark=(SparkSession\n",
    "    .builder\n",
    "    .appName('phase2')\n",
    "    .config(\"spark.mongodb.input.uri\", \"mongodb://127.0.0.1/amazon.review\")\n",
    "    .config(\"spark.jars.packages\", \"org.mongodb.spark:mongo-spark-connector_2.12:3.0.2\")\n",
    "    .config('spark.driver.memory','10g')\n",
    "    .config('spark.executor.memory','15g')\n",
    "    .config('spark.executor.cores',4)\n",
    "    .getOrCreate())\n",
    "spark"
   ]
  },
  {
   "cell_type": "code",
   "execution_count": 2,
   "id": "d3da43ce-84c5-4796-965b-f989175e535d",
   "metadata": {},
   "outputs": [
    {
     "name": "stdout",
     "output_type": "stream",
     "text": [
      "+--------------------+----------+-------+--------------------+--------------+------------+--------------+--------+----+\n",
      "|                 _id|      asin|overall|          reviewText|    reviewerID|reviewerName|unixReviewTime|verified|vote|\n",
      "+--------------------+----------+-------+--------------------+--------------+------------+--------------+--------+----+\n",
      "|{644edb388c152636...|B01C6DXMX0|    5.0|   Love this product|A1MWPEXTKRZTVU|      cherie|    1506384000|   false|null|\n",
      "|{644edb388c152636...|B00BWYVWLO|    5.0|It's exactly what...|A1QYUQDUVUV05V|       toots|    1438819200|    true|null|\n",
      "|{644edb388c152636...|B01C6DXMX0|    4.0|great product , e...|A15Q1O8A4WWL0M| Greg Willis|    1506297600|   false|null|\n",
      "|{644edb388c152636...|B01C6DXMX0|    5.0|It just works great!|A1K0Z9BW3SYMBB|     Alan L.|    1506211200|   false|null|\n",
      "|{644edb388c152636...|B01C6DXMX0|    5.0|This camera works...|A2NIFC4XEWL3EC|         BMW|    1506211200|    true|null|\n",
      "+--------------------+----------+-------+--------------------+--------------+------------+--------------+--------+----+\n",
      "only showing top 5 rows\n",
      "\n"
     ]
    }
   ],
   "source": [
    "data = spark.read.format(\"com.mongodb.spark.sql.DefaultSource\").option(\"uri\",\"mongodb://127.0.0.1/amazon.review\").load()\n",
    "data.show(5)"
   ]
  },
  {
   "cell_type": "code",
   "execution_count": 3,
   "id": "26db67da-0f42-4dd1-b022-3088af11cb12",
   "metadata": {},
   "outputs": [
    {
     "name": "stdout",
     "output_type": "stream",
     "text": [
      "+----------+-------+--------------+\n",
      "|      asin|overall|    reviewerID|\n",
      "+----------+-------+--------------+\n",
      "|B01C6DXMX0|    5.0|A1MWPEXTKRZTVU|\n",
      "|B00BWYVWLO|    5.0|A1QYUQDUVUV05V|\n",
      "|B01C6DXMX0|    4.0|A15Q1O8A4WWL0M|\n",
      "+----------+-------+--------------+\n",
      "only showing top 3 rows\n",
      "\n"
     ]
    }
   ],
   "source": [
    "df = data.drop(\"_id\",\"reviewText\",\"reviewerName\",\"unixReviewTime\",\"verified\",\"vote\")\n",
    "df.show(3)"
   ]
  },
  {
   "cell_type": "code",
   "execution_count": 6,
   "id": "9c57601f-a8d2-4d2b-afa2-dbaae9081863",
   "metadata": {},
   "outputs": [],
   "source": [
    "df1 = df.na.drop()"
   ]
  },
  {
   "cell_type": "markdown",
   "id": "3d8488f7-e26c-4ec5-aed2-2cb303ec8589",
   "metadata": {},
   "source": [
    "# Saving dataframe in parquet format for faster queries"
   ]
  },
  {
   "cell_type": "code",
   "execution_count": 7,
   "id": "ec2f865b-f4ea-4b2c-9f86-15b0f0b9ffb6",
   "metadata": {},
   "outputs": [],
   "source": [
    "df1.coalesce(1).write.mode('overwrite').option(\"header\", \"true\").parquet('data.parquet')"
   ]
  },
  {
   "cell_type": "code",
   "execution_count": 10,
   "id": "82ac16e4-6a4c-46e7-90e8-8f86847bbbf4",
   "metadata": {},
   "outputs": [],
   "source": [
    "spark.stop()"
   ]
  },
  {
   "cell_type": "markdown",
   "id": "5c78af5b-8dc1-4b35-8152-927e8ff20949",
   "metadata": {},
   "source": [
    "# Preparing data for ML model"
   ]
  },
  {
   "cell_type": "code",
   "execution_count": 2,
   "id": "02103254-6a52-4fc0-ae01-32867a72e9c8",
   "metadata": {},
   "outputs": [
    {
     "data": {
      "text/html": [
       "\n",
       "            <div>\n",
       "                <p><b>SparkSession - in-memory</b></p>\n",
       "                \n",
       "        <div>\n",
       "            <p><b>SparkContext</b></p>\n",
       "\n",
       "            <p><a href=\"http://HAPPYLAMMA2001:4040\">Spark UI</a></p>\n",
       "\n",
       "            <dl>\n",
       "              <dt>Version</dt>\n",
       "                <dd><code>v3.3.2</code></dd>\n",
       "              <dt>Master</dt>\n",
       "                <dd><code>local[*]</code></dd>\n",
       "              <dt>AppName</dt>\n",
       "                <dd><code>phase2</code></dd>\n",
       "            </dl>\n",
       "        </div>\n",
       "        \n",
       "            </div>\n",
       "        "
      ],
      "text/plain": [
       "<pyspark.sql.session.SparkSession at 0x299f8268a90>"
      ]
     },
     "execution_count": 2,
     "metadata": {},
     "output_type": "execute_result"
    }
   ],
   "source": [
    "from pyspark.sql import SparkSession\n",
    "spark=(SparkSession\n",
    "    .builder\n",
    "    .appName('phase2')\n",
    "    .config('spark.driver.memory','10g')\n",
    "    .config('spark.executor.memory','15g')\n",
    "    .config('spark.executor.cores',8)\n",
    "    .getOrCreate())\n",
    "spark"
   ]
  },
  {
   "cell_type": "markdown",
   "id": "f3621a52-f2f0-4199-9dbc-2b43579168de",
   "metadata": {},
   "source": [
    "## Due to memory issues, we created seperate files for distinct values"
   ]
  },
  {
   "cell_type": "code",
   "execution_count": 3,
   "id": "fb0d67b0-fe86-4fa3-9160-1ed78829f73d",
   "metadata": {},
   "outputs": [],
   "source": [
    "df = spark.read.parquet('dataset.parquet')"
   ]
  },
  {
   "cell_type": "code",
   "execution_count": 4,
   "id": "e45387b9-0c65-476c-b9a7-8d9d768526b4",
   "metadata": {},
   "outputs": [],
   "source": [
    "df2 = df.select(\"asin\").distinct()"
   ]
  },
  {
   "cell_type": "code",
   "execution_count": 8,
   "id": "6c144579-6b89-42de-90eb-fcb8665ee702",
   "metadata": {},
   "outputs": [],
   "source": [
    "df2.coalesce(1).write.mode('overwrite').option(\"header\", \"true\").csv('asin2')"
   ]
  },
  {
   "cell_type": "code",
   "execution_count": 6,
   "id": "ce316fa2-c07d-4ac8-a0b8-18576228d261",
   "metadata": {},
   "outputs": [],
   "source": [
    "df3 = df.select(\"reviewerID\").distinct()"
   ]
  },
  {
   "cell_type": "code",
   "execution_count": 7,
   "id": "5f69d090-918f-438f-ad91-24d6a5b5c956",
   "metadata": {},
   "outputs": [],
   "source": [
    "df3.coalesce(1).write.mode('overwrite').option(\"header\", \"true\").csv('asin')"
   ]
  },
  {
   "cell_type": "markdown",
   "id": "fc16dd09-620a-4899-bfba-8c7619416c6e",
   "metadata": {},
   "source": [
    "## Assigning unique index in each file"
   ]
  },
  {
   "cell_type": "code",
   "execution_count": 1,
   "id": "9c0f7860-fc8d-4f66-90b8-6aaf4add063d",
   "metadata": {},
   "outputs": [
    {
     "data": {
      "text/html": [
       "\n",
       "            <div>\n",
       "                <p><b>SparkSession - in-memory</b></p>\n",
       "                \n",
       "        <div>\n",
       "            <p><b>SparkContext</b></p>\n",
       "\n",
       "            <p><a href=\"http://HAPPYLAMMA2001:4040\">Spark UI</a></p>\n",
       "\n",
       "            <dl>\n",
       "              <dt>Version</dt>\n",
       "                <dd><code>v3.3.2</code></dd>\n",
       "              <dt>Master</dt>\n",
       "                <dd><code>local[*]</code></dd>\n",
       "              <dt>AppName</dt>\n",
       "                <dd><code>phase2</code></dd>\n",
       "            </dl>\n",
       "        </div>\n",
       "        \n",
       "            </div>\n",
       "        "
      ],
      "text/plain": [
       "<pyspark.sql.session.SparkSession at 0x2a87294fd00>"
      ]
     },
     "execution_count": 1,
     "metadata": {},
     "output_type": "execute_result"
    }
   ],
   "source": [
    "from pyspark.sql import SparkSession\n",
    "spark=(SparkSession\n",
    "    .builder\n",
    "    .appName('phase2')\n",
    "    .config('spark.driver.memory','10g')\n",
    "    .config('spark.executor.memory','15g')\n",
    "    .config('spark.executor.cores',8)\n",
    "    .getOrCreate())\n",
    "spark"
   ]
  },
  {
   "cell_type": "markdown",
   "id": "851ed889-2145-4eee-a12a-000830e42ddb",
   "metadata": {},
   "source": [
    "## ASIN"
   ]
  },
  {
   "cell_type": "code",
   "execution_count": 3,
   "id": "805929e0-388e-43f2-b80e-66df0317c4cc",
   "metadata": {},
   "outputs": [
    {
     "name": "stdout",
     "output_type": "stream",
     "text": [
      "+----------+\n",
      "|      asin|\n",
      "+----------+\n",
      "|B000K6B5J4|\n",
      "|B01E709KWW|\n",
      "|B00HB2ZVWM|\n",
      "+----------+\n",
      "only showing top 3 rows\n",
      "\n"
     ]
    }
   ],
   "source": [
    "df = spark.read.csv('product.csv',header=True)\n",
    "df.show(3)"
   ]
  },
  {
   "cell_type": "code",
   "execution_count": 4,
   "id": "c2c7e41d-96f4-497b-96c9-4505259cbee0",
   "metadata": {},
   "outputs": [
    {
     "name": "stdout",
     "output_type": "stream",
     "text": [
      "+----------+-----+\n",
      "|      asin|index|\n",
      "+----------+-----+\n",
      "|0000000116|    1|\n",
      "|0000000868|    2|\n",
      "|0000001589|    3|\n",
      "+----------+-----+\n",
      "only showing top 3 rows\n",
      "\n"
     ]
    }
   ],
   "source": [
    "from pyspark.sql.window import Window\n",
    "from pyspark.sql.functions import row_number\n",
    "\n",
    "updated = df.withColumn(\"index\", row_number().over(Window.orderBy(\"asin\")))\n",
    "\n",
    "updated.show(3)"
   ]
  },
  {
   "cell_type": "code",
   "execution_count": 5,
   "id": "a72e7f1f-f87d-4eae-9ec1-9bdcf23ce5b7",
   "metadata": {},
   "outputs": [],
   "source": [
    "updated.coalesce(1).write.mode('overwrite').option(\"header\", \"true\").csv('updated_asin')"
   ]
  },
  {
   "cell_type": "markdown",
   "id": "1ae025d8-9a6b-48ea-80bc-64fa5388528d",
   "metadata": {},
   "source": [
    "## ReviewerID"
   ]
  },
  {
   "cell_type": "code",
   "execution_count": 3,
   "id": "f8d5fd60-b97f-45ca-84bf-e5b242bf0907",
   "metadata": {},
   "outputs": [
    {
     "name": "stdout",
     "output_type": "stream",
     "text": [
      "+--------------------+-----+\n",
      "|          reviewerID|index|\n",
      "+--------------------+-----+\n",
      "|A0000040I1OM9N4SGBD8|    1|\n",
      "|A0000074RA15UCBH3ON5|    2|\n",
      "|A000013090ZI3HIT9N5V|    3|\n",
      "+--------------------+-----+\n",
      "only showing top 3 rows\n",
      "\n"
     ]
    }
   ],
   "source": [
    "df = spark.read.csv('unique_reviewer.csv',header=True)\n",
    "df.show(3)"
   ]
  },
  {
   "cell_type": "markdown",
   "id": "ff32b6c2-0c44-4bb4-8aa1-8b76e17d2814",
   "metadata": {},
   "source": [
    "Unique reviewers"
   ]
  },
  {
   "cell_type": "code",
   "execution_count": 4,
   "id": "8efae7ad-1c67-49d6-b420-8bdccb199467",
   "metadata": {},
   "outputs": [
    {
     "data": {
      "text/plain": [
       "43531850"
      ]
     },
     "execution_count": 4,
     "metadata": {},
     "output_type": "execute_result"
    }
   ],
   "source": [
    "df.count()"
   ]
  },
  {
   "cell_type": "code",
   "execution_count": 8,
   "id": "41dfd6f0-2d70-4e08-a979-8ed8157df52a",
   "metadata": {},
   "outputs": [
    {
     "name": "stdout",
     "output_type": "stream",
     "text": [
      "+--------------------+-----+\n",
      "|          reviewerID|index|\n",
      "+--------------------+-----+\n",
      "|A0000040I1OM9N4SGBD8|    1|\n",
      "|A0000074RA15UCBH3ON5|    2|\n",
      "|A000013090ZI3HIT9N5V|    3|\n",
      "+--------------------+-----+\n",
      "only showing top 3 rows\n",
      "\n"
     ]
    }
   ],
   "source": [
    "updated = df.withColumn(\"index\", row_number().over(Window.orderBy(\"reviewerID\")))\n",
    "updated.show(3)"
   ]
  },
  {
   "cell_type": "code",
   "execution_count": 9,
   "id": "dfe617a7-0b11-416e-937e-8320a87990aa",
   "metadata": {},
   "outputs": [],
   "source": [
    "updated.coalesce(1).write.mode('overwrite').option(\"header\", \"true\").csv('updated_reviewer')"
   ]
  },
  {
   "cell_type": "markdown",
   "id": "63f994eb-b189-47f7-b1d0-3839b5bc043c",
   "metadata": {},
   "source": [
    "# inner joining with main data dataframe"
   ]
  },
  {
   "cell_type": "markdown",
   "id": "0837d236-003d-4f3c-bfc4-3cd2af1931e2",
   "metadata": {},
   "source": [
    "## ASIN "
   ]
  },
  {
   "cell_type": "code",
   "execution_count": 2,
   "id": "3aa82c44-8d87-41cc-a3aa-2fd32da07e29",
   "metadata": {},
   "outputs": [],
   "source": [
    "df1 = spark.read.parquet('dataset.parquet')"
   ]
  },
  {
   "cell_type": "code",
   "execution_count": 5,
   "id": "c61fe627-21ee-440c-b012-fb3a1740043f",
   "metadata": {},
   "outputs": [
    {
     "name": "stdout",
     "output_type": "stream",
     "text": [
      "+----------+-----+\n",
      "|      asin|index|\n",
      "+----------+-----+\n",
      "|0000000116|    1|\n",
      "+----------+-----+\n",
      "only showing top 1 row\n",
      "\n"
     ]
    }
   ],
   "source": [
    "df2 = spark.read.csv('unique_asin.csv',header=True)\n",
    "df2.show(1)"
   ]
  },
  {
   "cell_type": "code",
   "execution_count": 8,
   "id": "d7b35173-0c45-4908-bd35-2c3a381f32ed",
   "metadata": {},
   "outputs": [
    {
     "name": "stdout",
     "output_type": "stream",
     "text": [
      "+----------+-----+----------+-------+--------------+\n",
      "|      asin|index|      asin|overall|    reviewerID|\n",
      "+----------+-----+----------+-------+--------------+\n",
      "|0001714422|  169|0001714422|    5.0|A1LTMOQIYR3UTJ|\n",
      "+----------+-----+----------+-------+--------------+\n",
      "only showing top 1 row\n",
      "\n"
     ]
    }
   ],
   "source": [
    "combined = df2.join(df1,df2.asin ==  df1.asin,\"inner\")\n",
    "combined.show(1)"
   ]
  },
  {
   "cell_type": "code",
   "execution_count": 9,
   "id": "66687e26-9193-4acc-ad37-3ed956d89f5b",
   "metadata": {},
   "outputs": [],
   "source": [
    "final = combined.drop('asin')"
   ]
  },
  {
   "cell_type": "code",
   "execution_count": 10,
   "id": "dff41ffb-db91-4305-9007-6f67b06547a1",
   "metadata": {},
   "outputs": [],
   "source": [
    "final.coalesce(1).write.mode('overwrite').option(\"header\", \"true\").csv('combined_asin')"
   ]
  },
  {
   "cell_type": "markdown",
   "id": "121a804d-e386-4287-94b8-64395efedf5b",
   "metadata": {},
   "source": [
    "## ReviewerID"
   ]
  },
  {
   "cell_type": "code",
   "execution_count": 3,
   "id": "961d4002-9cff-4ed5-a346-520a7dcf0495",
   "metadata": {},
   "outputs": [
    {
     "name": "stdout",
     "output_type": "stream",
     "text": [
      "+-----+-------+--------------+\n",
      "|index|overall|    reviewerID|\n",
      "+-----+-------+--------------+\n",
      "|  169|    5.0|A1LTMOQIYR3UTJ|\n",
      "+-----+-------+--------------+\n",
      "only showing top 1 row\n",
      "\n"
     ]
    }
   ],
   "source": [
    "df1 = spark.read.csv('combined_with_asin.csv',header=True)\n",
    "df1.show(1)"
   ]
  },
  {
   "cell_type": "code",
   "execution_count": 4,
   "id": "bf0c6b64-3182-4d24-8d07-8e73ede00457",
   "metadata": {},
   "outputs": [
    {
     "name": "stdout",
     "output_type": "stream",
     "text": [
      "+--------------------+-----+\n",
      "|          reviewerID|index|\n",
      "+--------------------+-----+\n",
      "|A0000040I1OM9N4SGBD8|    1|\n",
      "+--------------------+-----+\n",
      "only showing top 1 row\n",
      "\n"
     ]
    }
   ],
   "source": [
    "df2 = spark.read.csv('unique_reviewer.csv',header=True)\n",
    "df2.show(1)"
   ]
  },
  {
   "cell_type": "code",
   "execution_count": 5,
   "id": "531ce960-9e53-45b6-aa44-b62468ea96de",
   "metadata": {},
   "outputs": [
    {
     "name": "stdout",
     "output_type": "stream",
     "text": [
      "+--------------------+--------------+\n",
      "|          reviewerID|reviewer_index|\n",
      "+--------------------+--------------+\n",
      "|A0000040I1OM9N4SGBD8|             1|\n",
      "+--------------------+--------------+\n",
      "only showing top 1 row\n",
      "\n"
     ]
    }
   ],
   "source": [
    "df3 = df2.withColumnRenamed(\"index\",\"reviewer_index\")\n",
    "df3.show(1)"
   ]
  },
  {
   "cell_type": "code",
   "execution_count": 10,
   "id": "c6072322-1689-4c76-843f-355f46bc64f2",
   "metadata": {},
   "outputs": [],
   "source": [
    "combined = df1.join(df3,df1.reviewerID == df3.reviewerID ,\"inner\")"
   ]
  },
  {
   "cell_type": "code",
   "execution_count": 11,
   "id": "b23ad881-a97a-4431-b229-54e3a9e7f73b",
   "metadata": {},
   "outputs": [],
   "source": [
    "final = combined.drop('reviewerID')"
   ]
  },
  {
   "cell_type": "code",
   "execution_count": 12,
   "id": "b9910996-ff7c-448f-9833-f56bf27bd4e2",
   "metadata": {},
   "outputs": [],
   "source": [
    "final.coalesce(1).write.mode('overwrite').option(\"header\", \"true\").csv('final_combined')"
   ]
  },
  {
   "cell_type": "markdown",
   "id": "367877c2-8d30-407a-9c36-2217cc1f1c2f",
   "metadata": {},
   "source": [
    "# TRAINING MODEL"
   ]
  },
  {
   "cell_type": "code",
   "execution_count": 1,
   "id": "bab94931-2d1e-40f5-bd46-2226a0b53212",
   "metadata": {},
   "outputs": [
    {
     "data": {
      "text/html": [
       "\n",
       "            <div>\n",
       "                <p><b>SparkSession - in-memory</b></p>\n",
       "                \n",
       "        <div>\n",
       "            <p><b>SparkContext</b></p>\n",
       "\n",
       "            <p><a href=\"http://HAPPYLAMMA2001:4040\">Spark UI</a></p>\n",
       "\n",
       "            <dl>\n",
       "              <dt>Version</dt>\n",
       "                <dd><code>v3.3.2</code></dd>\n",
       "              <dt>Master</dt>\n",
       "                <dd><code>local[*]</code></dd>\n",
       "              <dt>AppName</dt>\n",
       "                <dd><code>phase2</code></dd>\n",
       "            </dl>\n",
       "        </div>\n",
       "        \n",
       "            </div>\n",
       "        "
      ],
      "text/plain": [
       "<pyspark.sql.session.SparkSession at 0x1e69cf5ed00>"
      ]
     },
     "execution_count": 1,
     "metadata": {},
     "output_type": "execute_result"
    }
   ],
   "source": [
    "from pyspark.sql import SparkSession\n",
    "spark=(SparkSession\n",
    "    .builder\n",
    "    .appName('phase2')\n",
    "    .config('spark.driver.memory','10g')\n",
    "    .config('spark.executor.memory','15g')\n",
    "    .config('spark.executor.cores',8)\n",
    "    .getOrCreate())\n",
    "spark"
   ]
  },
  {
   "cell_type": "code",
   "execution_count": 2,
   "id": "189baa3a-271a-4b44-8d88-3a52b567b4f0",
   "metadata": {},
   "outputs": [],
   "source": [
    "from pyspark.ml.evaluation import RegressionEvaluator\n",
    "from pyspark.ml.recommendation import ALS"
   ]
  },
  {
   "cell_type": "code",
   "execution_count": 3,
   "id": "f9b7b303-b147-4be8-8367-a2fa1cd59433",
   "metadata": {},
   "outputs": [
    {
     "name": "stdout",
     "output_type": "stream",
     "text": [
      "+--------+-------+--------------+\n",
      "|   index|overall|reviewer_index|\n",
      "+--------+-------+--------------+\n",
      "| 4422427|    5.0|           518|\n",
      "|10297439|    5.0|           518|\n",
      "| 7434094|    5.0|           543|\n",
      "| 4086771|    5.0|           543|\n",
      "| 4086771|    5.0|           543|\n",
      "+--------+-------+--------------+\n",
      "only showing top 5 rows\n",
      "\n"
     ]
    }
   ],
   "source": [
    "df = spark.read.csv('final.csv',header=True)\n",
    "df.show(5)"
   ]
  },
  {
   "cell_type": "code",
   "execution_count": 4,
   "id": "11f6289e-29c3-4e6b-bf5b-a6cfecc26296",
   "metadata": {},
   "outputs": [
    {
     "name": "stdout",
     "output_type": "stream",
     "text": [
      "root\n",
      " |-- index: string (nullable = true)\n",
      " |-- overall: string (nullable = true)\n",
      " |-- reviewer_index: string (nullable = true)\n",
      "\n"
     ]
    }
   ],
   "source": [
    "df.printSchema()"
   ]
  },
  {
   "cell_type": "code",
   "execution_count": 5,
   "id": "50dfaddc-f167-466b-9fbf-3fcaf0dfa566",
   "metadata": {},
   "outputs": [],
   "source": [
    "df2 = df.withColumn(\"index\",df[\"index\"].cast('integer'))\n",
    "df3 = df2.withColumn(\"overall\",df[\"overall\"].cast('integer'))\n",
    "df4 = df3.withColumn(\"reviewer_index\",df[\"reviewer_index\"].cast('integer'))"
   ]
  },
  {
   "cell_type": "code",
   "execution_count": 6,
   "id": "fbad1f93-a9e1-44e3-ab97-277124d75389",
   "metadata": {},
   "outputs": [
    {
     "name": "stdout",
     "output_type": "stream",
     "text": [
      "root\n",
      " |-- index: integer (nullable = true)\n",
      " |-- overall: integer (nullable = true)\n",
      " |-- reviewer_index: integer (nullable = true)\n",
      "\n"
     ]
    }
   ],
   "source": [
    "df4.printSchema()"
   ]
  },
  {
   "cell_type": "code",
   "execution_count": 7,
   "id": "050c3814-c64b-4183-b66c-93414dd5a98f",
   "metadata": {},
   "outputs": [],
   "source": [
    "df4.createTempView(\"test\")"
   ]
  },
  {
   "cell_type": "code",
   "execution_count": 8,
   "id": "764b2c70-9fb2-48a5-bb19-0500e6fb3d43",
   "metadata": {},
   "outputs": [],
   "source": [
    "result1 = spark.sql(\"select * from test where reviewer_index in (select reviewer_index from test group by reviewer_index having count(reviewer_index) > 50)\")"
   ]
  },
  {
   "cell_type": "code",
   "execution_count": 9,
   "id": "55834c60-b6fd-444b-888a-19aa57277a86",
   "metadata": {},
   "outputs": [],
   "source": [
    "result1.coalesce(1).write.mode('overwrite').option(\"header\", \"true\").csv('30query')"
   ]
  },
  {
   "cell_type": "code",
   "execution_count": 9,
   "id": "c2e687ac-5e92-477b-b445-17fbde18f7e6",
   "metadata": {},
   "outputs": [
    {
     "name": "stdout",
     "output_type": "stream",
     "text": [
      "+--------+-------+--------------+\n",
      "|   index|overall|reviewer_index|\n",
      "+--------+-------+--------------+\n",
      "|10632623|      5|          5984|\n",
      "| 7108016|      5|          5984|\n",
      "|11671156|      5|          5984|\n",
      "| 9036280|      5|          5984|\n",
      "|13143720|      4|          5984|\n",
      "+--------+-------+--------------+\n",
      "only showing top 5 rows\n",
      "\n"
     ]
    }
   ],
   "source": [
    "df = spark.read.csv('50_query.csv',header=True)\n",
    "df.show(5)"
   ]
  },
  {
   "cell_type": "code",
   "execution_count": 11,
   "id": "5f30dbc3-4ee9-4914-a7f9-9f8cab9621bc",
   "metadata": {},
   "outputs": [],
   "source": [
    "df2 = df.withColumn(\"index\",df[\"index\"].cast('integer'))\n",
    "df3 = df2.withColumn(\"overall\",df[\"overall\"].cast('integer'))\n",
    "df4 = df3.withColumn(\"reviewer_index\",df[\"reviewer_index\"].cast('integer'))"
   ]
  },
  {
   "cell_type": "code",
   "execution_count": 12,
   "id": "3ef8a40c-f99d-46c9-9d6b-f84bdb74899e",
   "metadata": {},
   "outputs": [
    {
     "name": "stdout",
     "output_type": "stream",
     "text": [
      "root\n",
      " |-- index: integer (nullable = true)\n",
      " |-- overall: integer (nullable = true)\n",
      " |-- reviewer_index: integer (nullable = true)\n",
      "\n"
     ]
    }
   ],
   "source": [
    "df4.printSchema()"
   ]
  },
  {
   "cell_type": "code",
   "execution_count": 13,
   "id": "bbb2027d-518e-48b5-9020-b7c358621504",
   "metadata": {},
   "outputs": [],
   "source": [
    "(training,test)=df4.randomSplit([0.8, 0.2],seed = 50)"
   ]
  },
  {
   "cell_type": "code",
   "execution_count": 17,
   "id": "30405bd8-b598-4ed0-941c-9e764abd84fb",
   "metadata": {},
   "outputs": [],
   "source": [
    "training.coalesce(1).write.mode('overwrite').option(\"header\", \"true\").csv('train50')"
   ]
  },
  {
   "cell_type": "code",
   "execution_count": 14,
   "id": "7b5812bb-44a6-46d3-b2fe-ba3f004cee54",
   "metadata": {},
   "outputs": [],
   "source": [
    "als=ALS(maxIter=3,regParam=0.09,rank=6,userCol=\"reviewer_index\",itemCol=\"index\",ratingCol=\"overall\",coldStartStrategy=\"drop\",nonnegative=True)"
   ]
  },
  {
   "cell_type": "code",
   "execution_count": 15,
   "id": "fea99d1f-8650-4336-a2d5-c24b8c5e62de",
   "metadata": {},
   "outputs": [],
   "source": [
    "model=als.fit(training)"
   ]
  },
  {
   "cell_type": "code",
   "execution_count": 16,
   "id": "db21a542-1cdd-4e91-ac24-98cc412e5717",
   "metadata": {},
   "outputs": [],
   "source": [
    "model.save('50_set')"
   ]
  },
  {
   "cell_type": "code",
   "execution_count": 16,
   "id": "8503a0c8-b255-45ab-b966-dffa89a622e3",
   "metadata": {},
   "outputs": [
    {
     "name": "stdout",
     "output_type": "stream",
     "text": [
      "RMSE=1.0328847009803104\n"
     ]
    }
   ],
   "source": [
    "evaluator=RegressionEvaluator(metricName=\"rmse\",labelCol=\"overall\",predictionCol=\"prediction\")\n",
    "predictions=model.transform(test)\n",
    "rmse=evaluator.evaluate(predictions)\n",
    "print(\"RMSE=\"+str(rmse))"
   ]
  },
  {
   "cell_type": "code",
   "execution_count": null,
   "id": "4fa3cf40-5383-400b-befe-fab265ee59be",
   "metadata": {},
   "outputs": [],
   "source": [
    "df.createTempView(\"ids\")"
   ]
  },
  {
   "cell_type": "code",
   "execution_count": null,
   "id": "944e3624-a04e-4eae-8f4c-652d8f8c2ec0",
   "metadata": {},
   "outputs": [],
   "source": [
    "result1 = spark.sql(\"select distinct(reviewer_index) from ids\")"
   ]
  },
  {
   "cell_type": "code",
   "execution_count": null,
   "id": "271195ad-5a6f-4107-af0b-148b4a2502b1",
   "metadata": {},
   "outputs": [],
   "source": [
    "result1.coalesce(1).write.mode('overwrite').option(\"header\", \"true\").csv('unique_train_50')"
   ]
  },
  {
   "cell_type": "code",
   "execution_count": null,
   "id": "4d066a71-e613-4414-91af-84ca0aa3f91d",
   "metadata": {},
   "outputs": [],
   "source": []
  }
 ],
 "metadata": {
  "kernelspec": {
   "display_name": "Python 3 (ipykernel)",
   "language": "python",
   "name": "python3"
  },
  "language_info": {
   "codemirror_mode": {
    "name": "ipython",
    "version": 3
   },
   "file_extension": ".py",
   "mimetype": "text/x-python",
   "name": "python",
   "nbconvert_exporter": "python",
   "pygments_lexer": "ipython3",
   "version": "3.9.16"
  }
 },
 "nbformat": 4,
 "nbformat_minor": 5
}
