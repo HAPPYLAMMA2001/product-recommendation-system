{
 "cells": [
  {
   "cell_type": "code",
   "execution_count": 2,
   "id": "8d2c0151-ab1e-42bf-aefb-77538dd227c4",
   "metadata": {},
   "outputs": [
    {
     "data": {
      "text/html": [
       "\n",
       "            <div>\n",
       "                <p><b>SparkSession - in-memory</b></p>\n",
       "                \n",
       "        <div>\n",
       "            <p><b>SparkContext</b></p>\n",
       "\n",
       "            <p><a href=\"http://HAPPYLAMMA2001:4040\">Spark UI</a></p>\n",
       "\n",
       "            <dl>\n",
       "              <dt>Version</dt>\n",
       "                <dd><code>v3.3.2</code></dd>\n",
       "              <dt>Master</dt>\n",
       "                <dd><code>local[*]</code></dd>\n",
       "              <dt>AppName</dt>\n",
       "                <dd><code>project</code></dd>\n",
       "            </dl>\n",
       "        </div>\n",
       "        \n",
       "            </div>\n",
       "        "
      ],
      "text/plain": [
       "<pyspark.sql.session.SparkSession at 0x1fa3e192d60>"
      ]
     },
     "execution_count": 2,
     "metadata": {},
     "output_type": "execute_result"
    }
   ],
   "source": [
    "from matplotlib import pyplot as plt\n",
    "from pyspark.sql import SparkSession\n",
    "spark = SparkSession.builder \\\n",
    "    .appName(\"project\") \\\n",
    "    .config(\"spark.mongodb.input.uri\", \"mongodb://127.0.0.1/amazon.review\") \\\n",
    "    .config(\"spark.mongodb.output.uri\", \"mongodb://127.0.0.1/amazon.review\") \\\n",
    "    .config(\"spark.jars.packages\", \"org.mongodb.spark:mongo-spark-connector_2.12:3.0.2\") \\\n",
    "    .getOrCreate()\n",
    "spark"
   ]
  },
  {
   "cell_type": "markdown",
   "id": "8434935d-58cc-48ab-ab09-c051a5e2a79c",
   "metadata": {},
   "source": [
    "## Defining structure\n",
    "Due to semi-structured data, we had to define a structure for a dataframe meaning we had to decide which columns are needed and which needs to be discarded. Majority of the rows included following columns:\n",
    "+ overall\n",
    "+ verified\n",
    "+ reviewerID\n",
    "+ asin\n",
    "+ reviewerName\n",
    "+ reviewText\n",
    "+ unixReviewTime\n",
    "+ vote\n"
   ]
  },
  {
   "cell_type": "markdown",
   "id": "1c8b0a8d-dd53-4e98-af34-685a41ac76f2",
   "metadata": {},
   "source": [
    "All the rows contained review time but because we had unix time, we can ignore it as we can convert unix to datetime whenever we want. Also there were few rows which contained extra columns like images which contained contained list of links for images. But because there were very few rows containing these rows we can not use it for our recommendation systems."
   ]
  },
  {
   "cell_type": "code",
   "execution_count": 3,
   "id": "8efbb8f3-a1ce-414e-9052-19f1cbf3513e",
   "metadata": {},
   "outputs": [],
   "source": [
    "from pyspark.sql.types import *\n",
    "dataframe_format = StructType([\n",
    "    StructField(\"overall\",FloatType(),True),\n",
    "    StructField(\"verified\",BooleanType(),True),\n",
    "    StructField(\"reviewerID\", StringType(), True),\n",
    "    StructField(\"asin\", StringType(), True),\n",
    "    StructField(\"reviewerName\", StringType(), True),\n",
    "    StructField(\"reviewText\", StringType(), True),\n",
    "    StructField(\"unixReviewTime\", StringType(), True),\n",
    "    StructField(\"vote\", StringType(), True)\n",
    "  ])"
   ]
  },
  {
   "cell_type": "code",
   "execution_count": 4,
   "id": "590d412c-297b-4547-86f4-bf11fa46a855",
   "metadata": {},
   "outputs": [
    {
     "name": "stdout",
     "output_type": "stream",
     "text": [
      "+-------+--------+--------------+----------+----------------+--------------------+--------------+----+\n",
      "|overall|verified|    reviewerID|      asin|    reviewerName|          reviewText|unixReviewTime|vote|\n",
      "+-------+--------+--------------+----------+----------------+--------------------+--------------+----+\n",
      "|    1.0|   false|A27BTSGLXK2C5K|B017O9P72A|Jacob M. Wessler|Alexa is not able...|    1449792000|null|\n",
      "|    4.0|   false|A27ZJ1NCBFP1HZ|B017O9P72A|            Greg|Alexa works great...|    1449532800|   5|\n",
      "|    1.0|   false| ACCQIOZMFN4UK|B017O9P72A|        Da-Gr8-1|Weak!!\\n\\nAlexa d...|    1449446400|  11|\n",
      "|    2.0|   false|A3KUPJ396OQF78|B017O9P72A|   Larry Russlin|Can only control ...|    1449273600|null|\n",
      "|    1.0|   false|A1U1RE1ZI19E1H|B017O9P72A|         Rebekah|this worked great...|    1517529600|   2|\n",
      "|    5.0|   false|A3TXR8GLKS19RE|B017O9P72A|           Nello|         Great skill|    1515974400|null|\n",
      "|    1.0|   false| AVIWE1LJXCG77|B017O9P72A|    Pete Johnson|Pretty crappy. Wo...|    1515110400|   4|\n",
      "|    1.0|   false|A1FOHYK23FJ6CN|B017O9P72A|L. Ray Humphreys|Not happy. Can no...|    1515024000|   2|\n",
      "+-------+--------+--------------+----------+----------------+--------------------+--------------+----+\n",
      "only showing top 8 rows\n",
      "\n"
     ]
    }
   ],
   "source": [
    "df = spark.read.json(r\"C:/bda/All_Amazon_Review.json\", schema = dataframe_format)\n",
    "df.show(8)"
   ]
  },
  {
   "cell_type": "code",
   "execution_count": 10,
   "id": "7493256d-0c19-4290-af8c-4eb6bc4f4555",
   "metadata": {},
   "outputs": [
    {
     "data": {
      "text/plain": [
       "233055327"
      ]
     },
     "execution_count": 10,
     "metadata": {},
     "output_type": "execute_result"
    }
   ],
   "source": [
    "df.count()"
   ]
  },
  {
   "cell_type": "code",
   "execution_count": 5,
   "id": "4ca1b8ad-9db4-490e-a6f8-433e9dee1e4b",
   "metadata": {},
   "outputs": [
    {
     "name": "stdout",
     "output_type": "stream",
     "text": [
      "root\n",
      " |-- overall: float (nullable = true)\n",
      " |-- verified: boolean (nullable = true)\n",
      " |-- reviewerID: string (nullable = true)\n",
      " |-- asin: string (nullable = true)\n",
      " |-- reviewerName: string (nullable = true)\n",
      " |-- reviewText: string (nullable = true)\n",
      " |-- unixReviewTime: string (nullable = true)\n",
      " |-- vote: string (nullable = true)\n",
      "\n"
     ]
    }
   ],
   "source": [
    "df.printSchema()"
   ]
  },
  {
   "cell_type": "markdown",
   "id": "6ee6989e-378c-463d-a302-bd0689e60aee",
   "metadata": {},
   "source": [
    "## Converting vote column to integer"
   ]
  },
  {
   "cell_type": "code",
   "execution_count": 6,
   "id": "85395239-c606-4bc9-8679-69d0558c911d",
   "metadata": {},
   "outputs": [
    {
     "name": "stdout",
     "output_type": "stream",
     "text": [
      "root\n",
      " |-- overall: float (nullable = true)\n",
      " |-- verified: boolean (nullable = true)\n",
      " |-- reviewerID: string (nullable = true)\n",
      " |-- asin: string (nullable = true)\n",
      " |-- reviewerName: string (nullable = true)\n",
      " |-- reviewText: string (nullable = true)\n",
      " |-- unixReviewTime: string (nullable = true)\n",
      " |-- vote: integer (nullable = true)\n",
      "\n"
     ]
    }
   ],
   "source": [
    "df = df.withColumn(\"vote\",df[\"vote\"].cast('integer'))\n",
    "df.printSchema()"
   ]
  },
  {
   "cell_type": "markdown",
   "id": "345010c2-5392-4850-896c-d161e325536c",
   "metadata": {},
   "source": [
    "# Saving in MongoDB "
   ]
  },
  {
   "cell_type": "code",
   "execution_count": 7,
   "id": "9356d76e-4d46-4ff0-8cae-7d3c4ad4c8f6",
   "metadata": {},
   "outputs": [],
   "source": [
    "df.write.format(\"com.mongodb.spark.sql.DefaultSource\") \\\n",
    "  .option(\"uri\", \"mongodb://127.0.0.1/amazon.review\") \\\n",
    "  .mode(\"overwrite\") \\\n",
    "  .save()"
   ]
  },
  {
   "cell_type": "markdown",
   "id": "229a9e0a-df0e-41c9-98e3-47fa1159372b",
   "metadata": {},
   "source": [
    "# EDA"
   ]
  },
  {
   "cell_type": "code",
   "execution_count": 1,
   "id": "26cf1896-746c-4324-9908-243ea929027b",
   "metadata": {},
   "outputs": [
    {
     "data": {
      "text/html": [
       "\n",
       "            <div>\n",
       "                <p><b>SparkSession - in-memory</b></p>\n",
       "                \n",
       "        <div>\n",
       "            <p><b>SparkContext</b></p>\n",
       "\n",
       "            <p><a href=\"http://HAPPYLAMMA2001:4040\">Spark UI</a></p>\n",
       "\n",
       "            <dl>\n",
       "              <dt>Version</dt>\n",
       "                <dd><code>v3.3.2</code></dd>\n",
       "              <dt>Master</dt>\n",
       "                <dd><code>local[*]</code></dd>\n",
       "              <dt>AppName</dt>\n",
       "                <dd><code>reading</code></dd>\n",
       "            </dl>\n",
       "        </div>\n",
       "        \n",
       "            </div>\n",
       "        "
      ],
      "text/plain": [
       "<pyspark.sql.session.SparkSession at 0x2aea1a1fd30>"
      ]
     },
     "execution_count": 1,
     "metadata": {},
     "output_type": "execute_result"
    }
   ],
   "source": [
    "from pyspark.sql import SparkSession\n",
    "spark = SparkSession.builder \\\n",
    "    .appName(\"reading\") \\\n",
    "    .config(\"spark.mongodb.input.uri\", \"mongodb://127.0.0.1/random.review\") \\\n",
    "    .config(\"spark.mongodb.output.uri\", \"mongodb://127.0.0.1/random.review\") \\\n",
    "    .config(\"spark.jars.packages\", \"org.mongodb.spark:mongo-spark-connector_2.12:3.0.2\") \\\n",
    "    .getOrCreate()\n",
    "spark"
   ]
  },
  {
   "cell_type": "code",
   "execution_count": 2,
   "id": "49c70a5c-e15f-4595-b803-1f3fd613001d",
   "metadata": {},
   "outputs": [
    {
     "name": "stdout",
     "output_type": "stream",
     "text": [
      "+--------------------+----------+-------+--------------------+--------------+------------+--------------+--------+----+\n",
      "|                 _id|      asin|overall|          reviewText|    reviewerID|reviewerName|unixReviewTime|verified|vote|\n",
      "+--------------------+----------+-------+--------------------+--------------+------------+--------------+--------+----+\n",
      "|{644edb388c152636...|B01C6DXMX0|    5.0|   Love this product|A1MWPEXTKRZTVU|      cherie|    1506384000|   false|null|\n",
      "|{644edb388c152636...|B00BWYVWLO|    5.0|It's exactly what...|A1QYUQDUVUV05V|       toots|    1438819200|    true|null|\n",
      "|{644edb388c152636...|B01C6DXMX0|    4.0|great product , e...|A15Q1O8A4WWL0M| Greg Willis|    1506297600|   false|null|\n",
      "|{644edb388c152636...|B01C6DXMX0|    5.0|It just works great!|A1K0Z9BW3SYMBB|     Alan L.|    1506211200|   false|null|\n",
      "|{644edb388c152636...|B01C6DXMX0|    5.0|This camera works...|A2NIFC4XEWL3EC|         BMW|    1506211200|    true|null|\n",
      "|{644edb388c152636...|B01C6DXMX0|    4.0|The Ring was reco...|A2DZJOWG035M7G|       Jmol |    1505952000|   false|null|\n",
      "|{644edb388c152636...|B01C6DXMX0|    5.0|Outstanding produ...|A2MTP3RPAZL5T1|   Genevieve|    1505952000|   false|null|\n",
      "|{644edb388c152636...|B01C6DXMX0|    2.0|The camera has a ...|A2IJVKQY61I8XB|   S. Potter|    1505952000|    true|null|\n",
      "+--------------------+----------+-------+--------------------+--------------+------------+--------------+--------+----+\n",
      "only showing top 8 rows\n",
      "\n"
     ]
    }
   ],
   "source": [
    "data = spark.read.format(\"com.mongodb.spark.sql.DefaultSource\").option(\"uri\",\"mongodb://127.0.0.1/amazon.review\").load()\n",
    "data.show(8)"
   ]
  },
  {
   "cell_type": "code",
   "execution_count": 3,
   "id": "6463a438-973d-4eec-9fd0-821f578a5a44",
   "metadata": {},
   "outputs": [
    {
     "name": "stdout",
     "output_type": "stream",
     "text": [
      "+--------------------+----------+-------+--------------------+--------------+------------+--------------+--------+----+\n",
      "|                 _id|      asin|overall|          reviewText|    reviewerID|reviewerName|unixReviewTime|verified|vote|\n",
      "+--------------------+----------+-------+--------------------+--------------+------------+--------------+--------+----+\n",
      "|{644edb388c152636...|B01C6DXMX0|    5.0|   Love this product|A1MWPEXTKRZTVU|      cherie|    1506384000|   false|null|\n",
      "|{644edb388c152636...|B00BWYVWLO|    5.0|It's exactly what...|A1QYUQDUVUV05V|       toots|    1438819200|    true|null|\n",
      "|{644edb388c152636...|B01C6DXMX0|    4.0|great product , e...|A15Q1O8A4WWL0M| Greg Willis|    1506297600|   false|null|\n",
      "|{644edb388c152636...|B01C6DXMX0|    5.0|It just works great!|A1K0Z9BW3SYMBB|     Alan L.|    1506211200|   false|null|\n",
      "|{644edb388c152636...|B01C6DXMX0|    5.0|This camera works...|A2NIFC4XEWL3EC|         BMW|    1506211200|    true|null|\n",
      "|{644edb388c152636...|B01C6DXMX0|    4.0|The Ring was reco...|A2DZJOWG035M7G|       Jmol |    1505952000|   false|null|\n",
      "|{644edb388c152636...|B01C6DXMX0|    5.0|Outstanding produ...|A2MTP3RPAZL5T1|   Genevieve|    1505952000|   false|null|\n",
      "|{644edb388c152636...|B01C6DXMX0|    2.0|The camera has a ...|A2IJVKQY61I8XB|   S. Potter|    1505952000|    true|null|\n",
      "+--------------------+----------+-------+--------------------+--------------+------------+--------------+--------+----+\n",
      "only showing top 8 rows\n",
      "\n"
     ]
    }
   ],
   "source": [
    "data1 = data.drop('_id')\n",
    "data.show(8)"
   ]
  },
  {
   "cell_type": "code",
   "execution_count": 4,
   "id": "c8ef5a90-7240-4056-a853-4abdc3c41d14",
   "metadata": {},
   "outputs": [
    {
     "name": "stdout",
     "output_type": "stream",
     "text": [
      "+--------------------+----------+-------+--------------------+--------------+------------+--------------+--------+----+\n",
      "|                 _id|      asin|overall|          reviewText|    reviewerID|reviewerName|unixReviewTime|verified|vote|\n",
      "+--------------------+----------+-------+--------------------+--------------+------------+--------------+--------+----+\n",
      "|{644edb388c152636...|B01C6DXMX0|    5.0|   Love this product|A1MWPEXTKRZTVU|      cherie|    1506384000|   false|null|\n",
      "|{644edb388c152636...|B00BWYVWLO|    5.0|It's exactly what...|A1QYUQDUVUV05V|       toots|    1438819200|    true|null|\n",
      "|{644edb388c152636...|B01C6DXMX0|    4.0|great product , e...|A15Q1O8A4WWL0M| Greg Willis|    1506297600|   false|null|\n",
      "|{644edb388c152636...|B01C6DXMX0|    5.0|It just works great!|A1K0Z9BW3SYMBB|     Alan L.|    1506211200|   false|null|\n",
      "|{644edb388c152636...|B01C6DXMX0|    5.0|This camera works...|A2NIFC4XEWL3EC|         BMW|    1506211200|    true|null|\n",
      "|{644edb388c152636...|B01C6DXMX0|    4.0|The Ring was reco...|A2DZJOWG035M7G|       Jmol |    1505952000|   false|null|\n",
      "|{644edb388c152636...|B01C6DXMX0|    5.0|Outstanding produ...|A2MTP3RPAZL5T1|   Genevieve|    1505952000|   false|null|\n",
      "|{644edb388c152636...|B01C6DXMX0|    2.0|The camera has a ...|A2IJVKQY61I8XB|   S. Potter|    1505952000|    true|null|\n",
      "+--------------------+----------+-------+--------------------+--------------+------------+--------------+--------+----+\n",
      "only showing top 8 rows\n",
      "\n"
     ]
    }
   ],
   "source": [
    "data1 = data.na.drop(how ='any',subset=[\"asin\",\"overall\",\"reviewerID\"])\n",
    "data1.show(8)"
   ]
  },
  {
   "cell_type": "code",
   "execution_count": 26,
   "id": "79bbf85f-219d-4969-96fa-5719fd41acb6",
   "metadata": {},
   "outputs": [
    {
     "data": {
      "text/plain": [
       "233055327"
      ]
     },
     "execution_count": 26,
     "metadata": {},
     "output_type": "execute_result"
    }
   ],
   "source": [
    "data1.count()"
   ]
  },
  {
   "cell_type": "markdown",
   "id": "a3735923-399e-4efc-ab3e-63c84c23bafe",
   "metadata": {},
   "source": [
    "After removing nan values we have 233055327 rows which are same as before."
   ]
  },
  {
   "cell_type": "markdown",
   "id": "b760ee1d-b95c-483f-a0e9-316cb35f9e1c",
   "metadata": {},
   "source": [
    "Desciption of dataset is below:"
   ]
  },
  {
   "cell_type": "code",
   "execution_count": 4,
   "id": "022f4d27-a6dc-4ec0-9dfa-25792dac39fd",
   "metadata": {},
   "outputs": [],
   "source": [
    "result = data1.describe()"
   ]
  },
  {
   "cell_type": "code",
   "execution_count": 5,
   "id": "b4db8732-e500-4031-b395-c85057f51c76",
   "metadata": {},
   "outputs": [
    {
     "name": "stdout",
     "output_type": "stream",
     "text": [
      "+-------+--------------------+------------------+--------------------+--------------------+------------+--------------------+------------------+\n",
      "|summary|                asin|           overall|          reviewText|          reviewerID|reviewerName|      unixReviewTime|              vote|\n",
      "+-------+--------------------+------------------+--------------------+--------------------+------------+--------------------+------------------+\n",
      "|  count|           233055327|         233055327|           232901943|           233055327|   233042194|           233055327|          32587701|\n",
      "|   mean|1.1606255546475441E9| 4.232190208636595|            Infinity|                null|         NaN|1.4289705043691502E9| 7.527312497435766|\n",
      "| stddev| 1.200537895407047E9|1.2465116112161108|                 NaN|                null|         NaN|  8.57768564784035E7|20.432629014560085|\n",
      "|    min|          0000000116|               0.0|                  \\n|A0000040I1OM9N4SGBD8|    \\b T. T.|          1000080000|                 2|\n",
      "|    max|          B01HJI17Y8|               5.0|When I pick up...|       AZZZZXVAOWWME|         |           999993600|               999|\n",
      "+-------+--------------------+------------------+--------------------+--------------------+------------+--------------------+------------------+\n",
      "\n"
     ]
    }
   ],
   "source": [
    "result.show()"
   ]
  },
  {
   "cell_type": "markdown",
   "id": "8bf0dce1-7df8-49dc-b1a2-a85114053818",
   "metadata": {},
   "source": [
    "We have alot of rows to process hence it is not possible to perform EDA on whole data unless we have multinode setup which unfortunately is not possible for us at the moment. One thing we can do is to do random sampling and in order to avoid random data to be biased we need to make sure that discription ressembles with the complete data which we computed above."
   ]
  },
  {
   "cell_type": "code",
   "execution_count": 37,
   "id": "ae1ac092-855a-45a3-b6d0-98c9f5d82c43",
   "metadata": {},
   "outputs": [
    {
     "name": "stdout",
     "output_type": "stream",
     "text": [
      "root\n",
      " |-- _id: struct (nullable = true)\n",
      " |    |-- oid: string (nullable = true)\n",
      " |-- asin: string (nullable = true)\n",
      " |-- overall: double (nullable = true)\n",
      " |-- reviewText: string (nullable = true)\n",
      " |-- reviewerID: string (nullable = true)\n",
      " |-- reviewerName: string (nullable = true)\n",
      " |-- unixReviewTime: string (nullable = true)\n",
      " |-- verified: boolean (nullable = true)\n",
      " |-- vote: integer (nullable = true)\n",
      "\n"
     ]
    }
   ],
   "source": [
    "data1.printSchema()"
   ]
  },
  {
   "cell_type": "code",
   "execution_count": 38,
   "id": "8aaa072e-f81d-411c-81a9-cf3c5aeae8c6",
   "metadata": {},
   "outputs": [],
   "source": [
    "from pyspark.sql.functions import *\n",
    "data1 = data1.drop(\"reviewText\")\n",
    "data1 = data1.drop(\"_id\")\n",
    "random = data1.sample(fraction=0.1,seed=50)\n",
    "random.coalesce(1).write.format(\"csv\").option(\"header\", \"true\").mode(\"overwrite\").save(r\"random_sample\\sample.csv\")"
   ]
  },
  {
   "cell_type": "markdown",
   "id": "b4abf9d6-6dcc-4c3a-ba6b-e1d1eab42ef2",
   "metadata": {},
   "source": [
    "At this point we have sampled our data and we will be using it for analysis of or dataset"
   ]
  },
  {
   "cell_type": "code",
   "execution_count": 45,
   "id": "f015fe65-d274-468f-a95b-5ff8ae3a70da",
   "metadata": {},
   "outputs": [
    {
     "name": "stdout",
     "output_type": "stream",
     "text": [
      "root\n",
      " |-- asin: string (nullable = true)\n",
      " |-- overall: string (nullable = true)\n",
      " |-- reviewerID: string (nullable = true)\n",
      " |-- reviewerName: string (nullable = true)\n",
      " |-- unixReviewTime: string (nullable = true)\n",
      " |-- verified: string (nullable = true)\n",
      " |-- vote: string (nullable = true)\n",
      "\n"
     ]
    }
   ],
   "source": [
    "df = spark.read.csv(\"sample.csv\",header=True)\n",
    "df.printSchema()"
   ]
  },
  {
   "cell_type": "code",
   "execution_count": 46,
   "id": "a9025988-5cd7-4f51-9908-a3c020a51822",
   "metadata": {},
   "outputs": [
    {
     "name": "stdout",
     "output_type": "stream",
     "text": [
      "+----------+-------+--------------+----------------+--------------+--------+----+\n",
      "|      asin|overall|    reviewerID|    reviewerName|unixReviewTime|verified|vote|\n",
      "+----------+-------+--------------+----------------+--------------+--------+----+\n",
      "|B01C6DXMX0|    4.0|A15Q1O8A4WWL0M|     Greg Willis|    1506297600|   false|null|\n",
      "|B000068NW9|    2.0|A1VCV812D2ND65|  Keith R. Brown|    1238112000|    true|   4|\n",
      "|B000068O29|    5.0| AP8DCF5QB29B2|G. Wayne Gilbert|    1458864000|    true|null|\n",
      "|B000068O29|    4.0|A2LY3UDQVMGU6V|   Frank Bradley|    1449532800|    true|null|\n",
      "|B01C6DXMX0|    3.0|A2XYZXHGW2MJFZ|           Chris|    1505433600|   false|null|\n",
      "|B000068NW9|    5.0|A26U7TI5S2IOUT|     Alan Mulock|    1478649600|    true|null|\n",
      "|B01C6DXMX0|    5.0|A29VUZ35H6OIDQ| Jacques Marcoux|    1505347200|    true|null|\n",
      "|B01C6DXMX0|    5.0|A2TWWIS0WNKFIS|  George W Jeter|    1505260800|   false|null|\n",
      "+----------+-------+--------------+----------------+--------------+--------+----+\n",
      "only showing top 8 rows\n",
      "\n"
     ]
    }
   ],
   "source": [
    "df.show(8)"
   ]
  },
  {
   "cell_type": "code",
   "execution_count": 48,
   "id": "ca5ec99e-da8f-4f95-b701-b1f8ee0e046d",
   "metadata": {},
   "outputs": [
    {
     "name": "stdout",
     "output_type": "stream",
     "text": [
      "root\n",
      " |-- asin: string (nullable = true)\n",
      " |-- overall: float (nullable = true)\n",
      " |-- reviewerID: string (nullable = true)\n",
      " |-- reviewerName: string (nullable = true)\n",
      " |-- unixReviewTime: string (nullable = true)\n",
      " |-- verified: boolean (nullable = true)\n",
      " |-- vote: integer (nullable = true)\n",
      "\n"
     ]
    }
   ],
   "source": [
    "df = df.withColumn(\"vote\",df[\"vote\"].cast('integer'))\n",
    "df = df.withColumn(\"overall\",df[\"overall\"].cast('float'))\n",
    "df = df.withColumn(\"verified\",df[\"verified\"].cast('boolean'))\n",
    "df.printSchema()"
   ]
  },
  {
   "cell_type": "code",
   "execution_count": 49,
   "id": "2b6e31b8-d7d9-4d7f-94ba-cef881d164e4",
   "metadata": {},
   "outputs": [
    {
     "name": "stdout",
     "output_type": "stream",
     "text": [
      "+-------+--------------------+------------------+-------------------+------------------+\n",
      "|summary|                asin|           overall|     unixReviewTime|              vote|\n",
      "+-------+--------------------+------------------+-------------------+------------------+\n",
      "|  count|            23311439|          23311342|           23310572|           3258554|\n",
      "|   mean|1.1606514592942953E9|23465.592897611816|1.428971244624972E9|7.5228334408452335|\n",
      "| stddev| 1.199840035154863E9| 5777483.874181405|8.575473616335726E7|  20.4158658542515|\n",
      "|    min|            &#039;s\"|               1.0|         1000080000|                 2|\n",
      "|    25%|        4.25284689E8|               4.0|        1.4028768E9|                 2|\n",
      "|    50%|        9.80017106E8|               5.0|         1.446336E9|                 3|\n",
      "|    75%|       1.509211748E9|               5.0|        1.4831424E9|                 6|\n",
      "|    max|                 zj\"|       1.5355872E9|          999993600|               997|\n",
      "+-------+--------------------+------------------+-------------------+------------------+\n",
      "\n"
     ]
    }
   ],
   "source": [
    "df.select(\"asin\", \"overall\",\"unixReviewTime\",\"verified\",\"vote\").summary().show()"
   ]
  },
  {
   "cell_type": "markdown",
   "id": "c1ce85c2-850b-4a06-b8eb-a82b0bb5e0ed",
   "metadata": {},
   "source": [
    "As we can see random sample is not so much different from original dataset, we can work on this for analysis."
   ]
  },
  {
   "cell_type": "markdown",
   "id": "7805285b-0906-475b-8f86-8820fd4b5ee8",
   "metadata": {},
   "source": [
    "# Using DASK for plotting"
   ]
  },
  {
   "cell_type": "code",
   "execution_count": 2,
   "id": "60cfb76b-0cbc-427b-9e40-6aa9313e74f9",
   "metadata": {},
   "outputs": [],
   "source": [
    "import numpy as np\n",
    "import pandas as pd\n",
    "import dask.dataframe as dd\n",
    "import dask.array as da\n",
    "import dask.bag as db\n",
    "from matplotlib import pyplot as plt"
   ]
  },
  {
   "cell_type": "code",
   "execution_count": 3,
   "id": "375ee6bf-ba06-4e11-a463-8c8e5efeb463",
   "metadata": {},
   "outputs": [
    {
     "data": {
      "text/html": [
       "<div>\n",
       "<style scoped>\n",
       "    .dataframe tbody tr th:only-of-type {\n",
       "        vertical-align: middle;\n",
       "    }\n",
       "\n",
       "    .dataframe tbody tr th {\n",
       "        vertical-align: top;\n",
       "    }\n",
       "\n",
       "    .dataframe thead th {\n",
       "        text-align: right;\n",
       "    }\n",
       "</style>\n",
       "<table border=\"1\" class=\"dataframe\">\n",
       "  <thead>\n",
       "    <tr style=\"text-align: right;\">\n",
       "      <th></th>\n",
       "      <th>asin</th>\n",
       "      <th>overall</th>\n",
       "      <th>reviewerID</th>\n",
       "      <th>reviewerName</th>\n",
       "      <th>unixReviewTime</th>\n",
       "      <th>verified</th>\n",
       "      <th>vote</th>\n",
       "    </tr>\n",
       "  </thead>\n",
       "  <tbody>\n",
       "    <tr>\n",
       "      <th>0</th>\n",
       "      <td>B01C6DXMX0</td>\n",
       "      <td>4.0</td>\n",
       "      <td>A15Q1O8A4WWL0M</td>\n",
       "      <td>Greg Willis</td>\n",
       "      <td>1506297600</td>\n",
       "      <td>False</td>\n",
       "      <td>NaN</td>\n",
       "    </tr>\n",
       "    <tr>\n",
       "      <th>1</th>\n",
       "      <td>B000068NW9</td>\n",
       "      <td>2.0</td>\n",
       "      <td>A1VCV812D2ND65</td>\n",
       "      <td>Keith R. Brown</td>\n",
       "      <td>1238112000</td>\n",
       "      <td>True</td>\n",
       "      <td>4.0</td>\n",
       "    </tr>\n",
       "    <tr>\n",
       "      <th>2</th>\n",
       "      <td>B000068O29</td>\n",
       "      <td>5.0</td>\n",
       "      <td>AP8DCF5QB29B2</td>\n",
       "      <td>G. Wayne Gilbert</td>\n",
       "      <td>1458864000</td>\n",
       "      <td>True</td>\n",
       "      <td>NaN</td>\n",
       "    </tr>\n",
       "    <tr>\n",
       "      <th>3</th>\n",
       "      <td>B000068O29</td>\n",
       "      <td>4.0</td>\n",
       "      <td>A2LY3UDQVMGU6V</td>\n",
       "      <td>Frank Bradley</td>\n",
       "      <td>1449532800</td>\n",
       "      <td>True</td>\n",
       "      <td>NaN</td>\n",
       "    </tr>\n",
       "    <tr>\n",
       "      <th>4</th>\n",
       "      <td>B01C6DXMX0</td>\n",
       "      <td>3.0</td>\n",
       "      <td>A2XYZXHGW2MJFZ</td>\n",
       "      <td>Chris</td>\n",
       "      <td>1505433600</td>\n",
       "      <td>False</td>\n",
       "      <td>NaN</td>\n",
       "    </tr>\n",
       "    <tr>\n",
       "      <th>5</th>\n",
       "      <td>B000068NW9</td>\n",
       "      <td>5.0</td>\n",
       "      <td>A26U7TI5S2IOUT</td>\n",
       "      <td>Alan Mulock</td>\n",
       "      <td>1478649600</td>\n",
       "      <td>True</td>\n",
       "      <td>NaN</td>\n",
       "    </tr>\n",
       "    <tr>\n",
       "      <th>6</th>\n",
       "      <td>B01C6DXMX0</td>\n",
       "      <td>5.0</td>\n",
       "      <td>A29VUZ35H6OIDQ</td>\n",
       "      <td>Jacques Marcoux</td>\n",
       "      <td>1505347200</td>\n",
       "      <td>True</td>\n",
       "      <td>NaN</td>\n",
       "    </tr>\n",
       "    <tr>\n",
       "      <th>7</th>\n",
       "      <td>B01C6DXMX0</td>\n",
       "      <td>5.0</td>\n",
       "      <td>A2TWWIS0WNKFIS</td>\n",
       "      <td>George W Jeter</td>\n",
       "      <td>1505260800</td>\n",
       "      <td>False</td>\n",
       "      <td>NaN</td>\n",
       "    </tr>\n",
       "    <tr>\n",
       "      <th>8</th>\n",
       "      <td>B000068NW9</td>\n",
       "      <td>2.0</td>\n",
       "      <td>A1RNBK5UQVD47A</td>\n",
       "      <td>Anthony Marshall</td>\n",
       "      <td>1468800000</td>\n",
       "      <td>True</td>\n",
       "      <td>NaN</td>\n",
       "    </tr>\n",
       "    <tr>\n",
       "      <th>9</th>\n",
       "      <td>B000068NW9</td>\n",
       "      <td>1.0</td>\n",
       "      <td>A3V70VTCLH1ZGR</td>\n",
       "      <td>MekaFoo</td>\n",
       "      <td>1461196800</td>\n",
       "      <td>True</td>\n",
       "      <td>NaN</td>\n",
       "    </tr>\n",
       "  </tbody>\n",
       "</table>\n",
       "</div>"
      ],
      "text/plain": [
       "         asin  overall      reviewerID      reviewerName  unixReviewTime  \\\n",
       "0  B01C6DXMX0      4.0  A15Q1O8A4WWL0M       Greg Willis      1506297600   \n",
       "1  B000068NW9      2.0  A1VCV812D2ND65    Keith R. Brown      1238112000   \n",
       "2  B000068O29      5.0   AP8DCF5QB29B2  G. Wayne Gilbert      1458864000   \n",
       "3  B000068O29      4.0  A2LY3UDQVMGU6V     Frank Bradley      1449532800   \n",
       "4  B01C6DXMX0      3.0  A2XYZXHGW2MJFZ             Chris      1505433600   \n",
       "5  B000068NW9      5.0  A26U7TI5S2IOUT       Alan Mulock      1478649600   \n",
       "6  B01C6DXMX0      5.0  A29VUZ35H6OIDQ   Jacques Marcoux      1505347200   \n",
       "7  B01C6DXMX0      5.0  A2TWWIS0WNKFIS    George W Jeter      1505260800   \n",
       "8  B000068NW9      2.0  A1RNBK5UQVD47A  Anthony Marshall      1468800000   \n",
       "9  B000068NW9      1.0  A3V70VTCLH1ZGR           MekaFoo      1461196800   \n",
       "\n",
       "   verified  vote  \n",
       "0     False   NaN  \n",
       "1      True   4.0  \n",
       "2      True   NaN  \n",
       "3      True   NaN  \n",
       "4     False   NaN  \n",
       "5      True   NaN  \n",
       "6      True   NaN  \n",
       "7     False   NaN  \n",
       "8      True   NaN  \n",
       "9      True   NaN  "
      ]
     },
     "execution_count": 3,
     "metadata": {},
     "output_type": "execute_result"
    }
   ],
   "source": [
    "df = dd.read_csv('sample.csv',on_bad_lines='skip')\n",
    "df.head(10)"
   ]
  },
  {
   "cell_type": "code",
   "execution_count": 4,
   "id": "55907e20-632c-4b56-bd70-adda6a16be40",
   "metadata": {},
   "outputs": [],
   "source": [
    "from dask.diagnostics import ProgressBar\n",
    "ProgressBar().register()"
   ]
  },
  {
   "cell_type": "code",
   "execution_count": 5,
   "id": "f1deb298-260f-40bb-82b1-5da55c6f372f",
   "metadata": {},
   "outputs": [
    {
     "name": "stdout",
     "output_type": "stream",
     "text": [
      "[########################################] | 100% Completed | 100.08 s\n"
     ]
    }
   ],
   "source": [
    "counts = df['asin'].value_counts()\n",
    "counts_df = counts.compute().reset_index()\n",
    "counts_df.columns = ['asin', 'count']\n"
   ]
  },
  {
   "cell_type": "code",
   "execution_count": 10,
   "id": "4f1888b6-618f-4704-8fe3-eb54117cdad3",
   "metadata": {},
   "outputs": [
    {
     "data": {
      "text/html": [
       "<div>\n",
       "<style scoped>\n",
       "    .dataframe tbody tr th:only-of-type {\n",
       "        vertical-align: middle;\n",
       "    }\n",
       "\n",
       "    .dataframe tbody tr th {\n",
       "        vertical-align: top;\n",
       "    }\n",
       "\n",
       "    .dataframe thead th {\n",
       "        text-align: right;\n",
       "    }\n",
       "</style>\n",
       "<table border=\"1\" class=\"dataframe\">\n",
       "  <thead>\n",
       "    <tr style=\"text-align: right;\">\n",
       "      <th></th>\n",
       "      <th>asin</th>\n",
       "      <th>count</th>\n",
       "    </tr>\n",
       "  </thead>\n",
       "  <tbody>\n",
       "    <tr>\n",
       "      <th>0</th>\n",
       "      <td>038568231X</td>\n",
       "      <td>5815</td>\n",
       "    </tr>\n",
       "    <tr>\n",
       "      <th>1</th>\n",
       "      <td>0007420412</td>\n",
       "      <td>4504</td>\n",
       "    </tr>\n",
       "    <tr>\n",
       "      <th>2</th>\n",
       "      <td>0297859382</td>\n",
       "      <td>4499</td>\n",
       "    </tr>\n",
       "    <tr>\n",
       "      <th>3</th>\n",
       "      <td>0141353678</td>\n",
       "      <td>3762</td>\n",
       "    </tr>\n",
       "    <tr>\n",
       "      <th>4</th>\n",
       "      <td>0312577222</td>\n",
       "      <td>3652</td>\n",
       "    </tr>\n",
       "    <tr>\n",
       "      <th>5</th>\n",
       "      <td>0099911701</td>\n",
       "      <td>3280</td>\n",
       "    </tr>\n",
       "    <tr>\n",
       "      <th>6</th>\n",
       "      <td>B000X1MX7E</td>\n",
       "      <td>3237</td>\n",
       "    </tr>\n",
       "    <tr>\n",
       "      <th>7</th>\n",
       "      <td>0553418025</td>\n",
       "      <td>3086</td>\n",
       "    </tr>\n",
       "    <tr>\n",
       "      <th>8</th>\n",
       "      <td>B010OYASRG</td>\n",
       "      <td>2865</td>\n",
       "    </tr>\n",
       "    <tr>\n",
       "      <th>9</th>\n",
       "      <td>B00CYQP3AK</td>\n",
       "      <td>2822</td>\n",
       "    </tr>\n",
       "  </tbody>\n",
       "</table>\n",
       "</div>"
      ],
      "text/plain": [
       "         asin  count\n",
       "0  038568231X   5815\n",
       "1  0007420412   4504\n",
       "2  0297859382   4499\n",
       "3  0141353678   3762\n",
       "4  0312577222   3652\n",
       "5  0099911701   3280\n",
       "6  B000X1MX7E   3237\n",
       "7  0553418025   3086\n",
       "8  B010OYASRG   2865\n",
       "9  B00CYQP3AK   2822"
      ]
     },
     "execution_count": 10,
     "metadata": {},
     "output_type": "execute_result"
    }
   ],
   "source": [
    "top = counts_df.nlargest(10,'count')\n",
    "top"
   ]
  },
  {
   "cell_type": "code",
   "execution_count": 12,
   "id": "9f932990-7cc3-4dcd-b52a-94aff325af26",
   "metadata": {},
   "outputs": [
    {
     "data": {
      "image/png": "[encoded data removed]",
      "text/plain": [
       "<Figure size 1600x800 with 1 Axes>"
      ]
     },
     "metadata": {},
     "output_type": "display_data"
    }
   ],
   "source": [
    "plt.figure(figsize=(16, 8))\n",
    "plt.bar(top['asin'], top['count'])\n",
    "plt.show()"
   ]
  },
  {
   "cell_type": "markdown",
   "id": "6fd4e6ed-15df-4596-90f6-60f63ad3ec9b",
   "metadata": {},
   "source": [
    "Graph above tells us that these Products are most sold during period and it tell us that they most likely to be recommended to user. Even if similarity coefficient between 2 users dont fall inside threshold, we can safely recommend these products."
   ]
  },
  {
   "cell_type": "code",
   "execution_count": 5,
   "id": "2983e3e9-0239-480e-84a1-edb00b635554",
   "metadata": {},
   "outputs": [],
   "source": [
    "df = df.dropna(subset=['asin', 'overall','reviewerID','unixReviewTime'])\n",
    "df['vote'] = df['vote'].fillna(value=0)"
   ]
  },
  {
   "cell_type": "code",
   "execution_count": 6,
   "id": "fa750c41-dc8c-4817-ae66-bd3c76849214",
   "metadata": {},
   "outputs": [],
   "source": [
    "results = df.groupby('reviewerID')['vote'].sum()"
   ]
  },
  {
   "cell_type": "code",
   "execution_count": 7,
   "id": "39102bb2-90fa-4bd7-a103-c3446aed84a0",
   "metadata": {},
   "outputs": [
    {
     "name": "stdout",
     "output_type": "stream",
     "text": [
      "[########################################] | 100% Completed | 156.11 s\n"
     ]
    }
   ],
   "source": [
    "top_10 = results.nlargest(10).compute()"
   ]
  },
  {
   "cell_type": "code",
   "execution_count": 14,
   "id": "b8a742b9-7b29-455f-a0fc-592dd99a8080",
   "metadata": {},
   "outputs": [
    {
     "data": {
      "image/png": "[encoded data removed]",
      "text/plain": [
       "<Figure size 1500x600 with 1 Axes>"
      ]
     },
     "metadata": {},
     "output_type": "display_data"
    }
   ],
   "source": [
    "plt.figure(figsize=(15,6))\n",
    "plt.bar(top_10.index, top_10.values)\n",
    "plt.title('Top 10 Reviewers by Total Votes')\n",
    "plt.xlabel('Reviewer ID')\n",
    "plt.ylabel('Total Votes')\n",
    "plt.xticks(rotation='vertical')\n",
    "plt.show()"
   ]
  },
  {
   "cell_type": "markdown",
   "id": "f4d6a6d8-64e1-41c0-bd8e-62527ac41a93",
   "metadata": {},
   "source": [
    "Above graph tells us that top 10 reviewers with these ID are most trusted because they have most upvotes during the period in which data was collected so we can assume that reviews they provided are accurate and people tend to agree with them."
   ]
  },
  {
   "cell_type": "code",
   "execution_count": 17,
   "id": "e3a96c31-e785-4479-a875-9dcdfa67759c",
   "metadata": {},
   "outputs": [],
   "source": [
    "time = df[['unixReviewTime']].copy()"
   ]
  },
  {
   "cell_type": "code",
   "execution_count": 19,
   "id": "de0b1735-a376-4c18-8f92-02d6a9e038e8",
   "metadata": {},
   "outputs": [
    {
     "name": "stdout",
     "output_type": "stream",
     "text": [
      "[########################################] | 100% Completed | 87.74 s\n"
     ]
    }
   ],
   "source": [
    "time = time.sort_values('unixReviewTime', ascending=True)"
   ]
  },
  {
   "cell_type": "code",
   "execution_count": 45,
   "id": "5ebfa917-d622-4854-8f8e-ea8e71985573",
   "metadata": {},
   "outputs": [],
   "source": [
    "time['unixReviewTime'] = dd.to_datetime(time['unixReviewTime'], unit='s')"
   ]
  },
  {
   "cell_type": "code",
   "execution_count": 33,
   "id": "50f9b730-1221-434f-a90e-d8e2343f1f61",
   "metadata": {},
   "outputs": [],
   "source": [
    "time['num'] = time.reset_index().index"
   ]
  },
  {
   "cell_type": "code",
   "execution_count": 34,
   "id": "d7632ec9-17bc-42c9-b029-89eea9c1f670",
   "metadata": {},
   "outputs": [
    {
     "name": "stdout",
     "output_type": "stream",
     "text": [
      "[########################################] | 100% Completed | 45.81 s\n"
     ]
    }
   ],
   "source": [
    "starting = time.head(100)"
   ]
  },
  {
   "cell_type": "code",
   "execution_count": 35,
   "id": "8be9b1f7-c5fb-4109-ab19-546156caa238",
   "metadata": {},
   "outputs": [
    {
     "name": "stdout",
     "output_type": "stream",
     "text": [
      "[########################################] | 100% Completed | 44.66 s\n"
     ]
    }
   ],
   "source": [
    "ending = time.tail(100)"
   ]
  },
  {
   "cell_type": "code",
   "execution_count": 50,
   "id": "9892811f-4109-4c92-a373-fc06e7b95b70",
   "metadata": {},
   "outputs": [
    {
     "data": {
      "image/png": "[encoded data removed]",
      "text/plain": [
       "<Figure size 1600x600 with 2 Axes>"
      ]
     },
     "metadata": {},
     "output_type": "display_data"
    }
   ],
   "source": [
    "plt.figure(figsize=(16,6))\n",
    "plt.subplot(1, 2, 1)\n",
    "plt.plot(starting['num'],starting['unixReviewTime'])\n",
    "\n",
    "plt.subplot(1, 2, 2)\n",
    "plt.plot(ending['num'],ending['unixReviewTime'])\n",
    "\n",
    "plt.show()"
   ]
  },
  {
   "cell_type": "markdown",
   "id": "f37c9538-e5ad-4561-86d5-08c5a9c161d2",
   "metadata": {},
   "source": [
    "The graph on left tell us number products that are reviewed at start of data collection and right graph tells us number products that are reviewed at ending of data collection. This tells us that people are doing online shopping more then ever and that is probably because increasing accessibilty of internet around the world. These graph might not be accurate as not all people post their reviews but it does give us strong idea that our proposition is true."
   ]
  }
 ],
 "metadata": {
  "kernelspec": {
   "display_name": "Python 3 (ipykernel)",
   "language": "python",
   "name": "python3"
  },
  "language_info": {
   "codemirror_mode": {
    "name": "ipython",
    "version": 3
   },
   "file_extension": ".py",
   "mimetype": "text/x-python",
   "name": "python",
   "nbconvert_exporter": "python",
   "pygments_lexer": "ipython3",
   "version": "3.9.16"
  }
 },
 "nbformat": 4,
 "nbformat_minor": 5
}
